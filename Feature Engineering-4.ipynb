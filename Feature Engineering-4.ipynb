{
 "cells": [
  {
   "cell_type": "markdown",
   "id": "849340ce-f7f7-410a-91db-2fbd72337c57",
   "metadata": {},
   "source": [
    "# Q1. What is data encoding? How is it useful in data science?\n",
    "\n",
    "Data encoding refers to the process of converting categorical data into a numerical format that can be easily understood and processed by machine learning algorithms. It is useful in data science because most machine learning algorithms require numerical input, and encoding ensures that categorical data can be used effectively without introducing bias or errors.\n"
   ]
  },
  {
   "cell_type": "markdown",
   "id": "f42860b1-887a-407c-beda-45e1a4adc54f",
   "metadata": {},
   "source": [
    "# Q2. What is nominal encoding? Provide an example of how you would use it in a real-world scenario.\n",
    "\n",
    "\n",
    "Nominal encoding is a method of encoding categorical variables that do not have an inherent order or ranking. An example is encoding the colors of cars (red, blue, green) into numerical values (e.g., red = 1, blue = 2, green = 3). This can be used in a car sales dataset where the color of the car might influence the sales price.\n",
    "\n"
   ]
  },
  {
   "cell_type": "markdown",
   "id": "9b7c6b96-aee3-472e-8ea1-614c3ae6d343",
   "metadata": {},
   "source": [
    "# Q3. In what situations is nominal encoding preferred over one-hot encoding? Provide a practical example.\n",
    "\n",
    "\n",
    "Nominal encoding is preferred over one-hot encoding when the categorical variable has a large number of unique values, as one-hot encoding would create a large number of columns. For example, if we have a dataset of cities with 1000 unique city names, nominal encoding would convert these cities into numerical values (1-1000) instead of creating 1000 new columns.\n",
    "\n"
   ]
  },
  {
   "cell_type": "markdown",
   "id": "ca404ff5-667b-43d9-a3dd-0ef113f004cb",
   "metadata": {},
   "source": [
    "# Q4. Suppose you have a dataset containing categorical data with 5 unique values. Which encoding technique would you use to transform this data into a format suitable for machine learning algorithms? Explain why you made this choice.\n",
    "\n",
    "\n",
    "For 5 unique values, one-hot encoding is often preferred because it avoids introducing any ordinal relationships between the categories and is generally manageable in terms of the number of new columns created. Each unique value would be represented as a binary vector, ensuring that the algorithm does not assume any ordinal relationship between the categories.\n",
    "\n"
   ]
  },
  {
   "cell_type": "markdown",
   "id": "4123e9a9-18da-440e-b595-c74be934e48d",
   "metadata": {},
   "source": [
    "# Q5. In a machine learning project, you have a dataset with 1000 rows and 5 columns. Two of the columns are categorical, and the remaining three columns are numerical. If you were to use nominal encoding to transform the categorical data, how many new columns would be created? Show your calculations.\n",
    "\n",
    "If we use nominal encoding, each unique category in the two columns would be assigned a unique numerical value, resulting in no additional columns being created. The categorical columns would simply be replaced by their encoded values.\n",
    "\n"
   ]
  },
  {
   "cell_type": "markdown",
   "id": "e74b4791-e8d3-4034-9411-799707653240",
   "metadata": {},
   "source": [
    "# Q6. You are working with a dataset containing information about different types of animals, including their species, habitat, and diet. Which encoding technique would you use to transform the categorical data into a format suitable for machine learning algorithms? Justify your answer.\n",
    "\n",
    "\n",
    "One-hot encoding would be suitable for transforming the categorical data (species, habitat, diet) because it ensures that the algorithm does not assume any ordinal relationship between the categories. This is important for attributes like species and habitat, where there is no inherent order.\n",
    "\n"
   ]
  },
  {
   "cell_type": "markdown",
   "id": "a73268cb-b300-4309-94f4-96b1cf3007a8",
   "metadata": {},
   "source": [
    "# Q7. You are working on a project that involves predicting customer churn for a telecommunications company. You have a dataset with 5 features, including the customer's gender, age, contract type, monthly charges, and tenure. Which encoding technique(s) would you use to transform the categorical data into numerical data? Provide a step-by-step explanation of how you would implement the encoding.\n",
    "\n",
    "1. Identify categorical columns: 'Gender' and 'Contract Type'.\n",
    "2. Apply one-hot encoding to both columns.\n",
    "3. Concatenate the encoded columns with the numerical columns ('Age', 'Monthly Charges', 'Tenure').\n",
    "\n",
    "\n",
    "\n"
   ]
  },
  {
   "cell_type": "code",
   "execution_count": 1,
   "id": "b3579472-562f-4dd5-a16d-ffb707d8bcd9",
   "metadata": {},
   "outputs": [
    {
     "name": "stdout",
     "output_type": "stream",
     "text": [
      "   Age  Monthly Charges  Tenure  Gender_Female  Gender_Male  \\\n",
      "0   23               70      12            0.0          1.0   \n",
      "1   45               80      24            1.0          0.0   \n",
      "2   31               90      36            1.0          0.0   \n",
      "3   35               85      48            0.0          1.0   \n",
      "\n",
      "   Contract Type_Month-to-Month  Contract Type_One Year  \\\n",
      "0                           1.0                     0.0   \n",
      "1                           0.0                     1.0   \n",
      "2                           0.0                     0.0   \n",
      "3                           1.0                     0.0   \n",
      "\n",
      "   Contract Type_Two Year  \n",
      "0                     0.0  \n",
      "1                     0.0  \n",
      "2                     1.0  \n",
      "3                     0.0  \n"
     ]
    },
    {
     "name": "stderr",
     "output_type": "stream",
     "text": [
      "/opt/conda/lib/python3.10/site-packages/sklearn/preprocessing/_encoders.py:808: FutureWarning: `sparse` was renamed to `sparse_output` in version 1.2 and will be removed in 1.4. `sparse_output` is ignored unless you leave `sparse` to its default value.\n",
      "  warnings.warn(\n"
     ]
    }
   ],
   "source": [
    "import pandas as pd\n",
    "from sklearn.preprocessing import OneHotEncoder\n",
    "\n",
    "data = {\n",
    "    'Gender': ['Male', 'Female', 'Female', 'Male'],\n",
    "    'Age': [23, 45, 31, 35],\n",
    "    'Contract Type': ['Month-to-Month', 'One Year', 'Two Year', 'Month-to-Month'],\n",
    "    'Monthly Charges': [70, 80, 90, 85],\n",
    "    'Tenure': [12, 24, 36, 48]\n",
    "}\n",
    "\n",
    "df = pd.DataFrame(data)\n",
    "\n",
    "encoder = OneHotEncoder(sparse=False)\n",
    "encoded_columns = encoder.fit_transform(df[['Gender', 'Contract Type']])\n",
    "encoded_df = pd.DataFrame(encoded_columns, columns=encoder.get_feature_names_out(['Gender', 'Contract Type']))\n",
    "\n",
    "final_df = pd.concat([df[['Age', 'Monthly Charges', 'Tenure']], encoded_df], axis=1)\n",
    "\n",
    "print(final_df)"
   ]
  },
  {
   "cell_type": "code",
   "execution_count": null,
   "id": "cbc0132d-fa91-45a6-a6f6-00ef0665d52f",
   "metadata": {},
   "outputs": [],
   "source": []
  }
 ],
 "metadata": {
  "kernelspec": {
   "display_name": "Python 3 (ipykernel)",
   "language": "python",
   "name": "python3"
  },
  "language_info": {
   "codemirror_mode": {
    "name": "ipython",
    "version": 3
   },
   "file_extension": ".py",
   "mimetype": "text/x-python",
   "name": "python",
   "nbconvert_exporter": "python",
   "pygments_lexer": "ipython3",
   "version": "3.10.8"
  }
 },
 "nbformat": 4,
 "nbformat_minor": 5
}
